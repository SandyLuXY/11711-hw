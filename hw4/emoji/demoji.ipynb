{
 "cells": [
  {
   "cell_type": "code",
   "execution_count": 1,
   "metadata": {},
   "outputs": [],
   "source": [
    "txt = \"Reading this made me happy and I don't even know you. Keep doing your thing!🙌🏼\""
   ]
  },
  {
   "cell_type": "code",
   "execution_count": 1,
   "metadata": {},
   "outputs": [],
   "source": [
    "import demoji"
   ]
  },
  {
   "cell_type": "code",
   "execution_count": 2,
   "metadata": {},
   "outputs": [
    {
     "data": {
      "text/plain": [
       "':)'"
      ]
     },
     "execution_count": 2,
     "metadata": {},
     "output_type": "execute_result"
    }
   ],
   "source": [
    "demoji.replace_with_desc(':)')"
   ]
  },
  {
   "cell_type": "code",
   "execution_count": 18,
   "metadata": {},
   "outputs": [],
   "source": [
    "file_name = './data/original/dev.tsv'\n",
    "\n",
    "with open(file_name, 'r') as f:\n",
    "    x = f.readlines()\n",
    "\n",
    "output = []\n",
    "for i, s in enumerate(x):\n",
    "    meta = s.strip().split('\\t')\n",
    "    output.append(demoji.replace_with_desc(meta[0])+'\\t'+meta[1]+'\\t'+meta[2]+'\\n')\n",
    "\n",
    "out = \"\"\n",
    "for o in output:\n",
    "    out += o\n",
    "with open(file_name.replace('data','data_demoji'),'w') as f:\n",
    "    f.write(out)"
   ]
  },
  {
   "cell_type": "code",
   "execution_count": 3,
   "metadata": {},
   "outputs": [
    {
     "data": {
      "text/plain": [
       "'test Smile test Laugh test'"
      ]
     },
     "execution_count": 3,
     "metadata": {},
     "output_type": "execute_result"
    }
   ],
   "source": [
    "from emoticon_fix import emoticon_fix\n",
    "\n",
    "text = 'test :) test :D test'\n",
    "emoticon_fix.emoticon_fix(text)"
   ]
  },
  {
   "cell_type": "code",
   "execution_count": 15,
   "metadata": {},
   "outputs": [],
   "source": [
    "from emoticon_fix import emoticon_fix\n",
    "\n",
    "file_name = './data_demoji/original/dev.tsv'\n",
    "\n",
    "with open(file_name, 'r') as f:\n",
    "    x = f.readlines()\n",
    "\n",
    "output = []\n",
    "for i, s in enumerate(x):\n",
    "    meta = s.strip().split('\\t')\n",
    "    output.append(emoticon_fix.emoticon_fix(meta[0])+'\\t'+meta[1]+'\\t'+meta[2]+'\\n')\n",
    "\n",
    "out = \"\"\n",
    "for o in output:\n",
    "    out += o\n",
    "with open(file_name.replace('data_demoji','data_all'),'w') as f:\n",
    "    f.write(out)"
   ]
  },
  {
   "cell_type": "code",
   "execution_count": 1,
   "metadata": {},
   "outputs": [
    {
     "data": {
      "text/plain": [
       "0.044999999999999984"
      ]
     },
     "execution_count": 1,
     "metadata": {},
     "output_type": "execute_result"
    }
   ],
   "source": [
    "0.505-0.46"
   ]
  },
  {
   "cell_type": "code",
   "execution_count": 3,
   "metadata": {},
   "outputs": [
    {
     "data": {
      "text/plain": [
       "array([0.46976122, 0.46594491, 0.33050011, 0.47294491])"
      ]
     },
     "execution_count": 3,
     "metadata": {},
     "output_type": "execute_result"
    }
   ],
   "source": [
    "#demoji, demoticon, embed, all\n",
    "import numpy as np\n",
    "np.array([0.5147612218826467, 0.510944910712, 0.37550010728, 0.517944910712])-0.044999999999999984"
   ]
  },
  {
   "cell_type": "code",
   "execution_count": null,
   "metadata": {},
   "outputs": [],
   "source": []
  }
 ],
 "metadata": {
  "kernelspec": {
   "display_name": "Python 3.8.15 ('emo2vec')",
   "language": "python",
   "name": "python3"
  },
  "language_info": {
   "codemirror_mode": {
    "name": "ipython",
    "version": 3
   },
   "file_extension": ".py",
   "mimetype": "text/x-python",
   "name": "python",
   "nbconvert_exporter": "python",
   "pygments_lexer": "ipython3",
   "version": "3.8.15"
  },
  "orig_nbformat": 4,
  "vscode": {
   "interpreter": {
    "hash": "b8657b011e965df3f3d742941c0f0a05519926d23443397e95d4c0319dd09d7c"
   }
  }
 },
 "nbformat": 4,
 "nbformat_minor": 2
}
